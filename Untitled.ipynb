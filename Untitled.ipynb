{
 "cells": [
  {
   "cell_type": "code",
   "execution_count": 6,
   "id": "8c7a02f8",
   "metadata": {},
   "outputs": [
    {
     "name": "stdout",
     "output_type": "stream",
     "text": [
      "[Decoded(data=b'this is mee', type='CODE128', rect=Rect(left=4, top=0, width=302, height=75), polygon=[Point(x=4, y=1), Point(x=4, y=75), Point(x=306, y=74), Point(x=306, y=0)])]\n",
      "b'this is mee'\n",
      "this is mee\n",
      "Rect(left=4, top=0, width=302, height=75)\n"
     ]
    }
   ],
   "source": [
    "#importing libraries\n",
    "import numpy as np\n",
    "from pyzbar.pyzbar import decode\n",
    "import cv2\n",
    "#reading QRcode from an image\n",
    "img = cv2.imread(\"barcode.png\")\n",
    "code = decode(img)\n",
    "print(code)\n",
    "for barcode in decode(img):\n",
    "    print(barcode.data)\n",
    "    text = barcode.data.decode('utf-8')\n",
    "    print(text)\n",
    "    print(barcode.rect)\n",
    "\n"
   ]
  },
  {
   "cell_type": "code",
   "execution_count": 2,
   "id": "55bd296d",
   "metadata": {},
   "outputs": [
    {
     "data": {
      "text/plain": [
       "['C:\\\\Users\\\\91741\\\\Desktop\\\\verification project',\n",
       " 'c:\\\\users\\\\91741\\\\appdata\\\\local\\\\programs\\\\python\\\\python39\\\\python39.zip',\n",
       " 'c:\\\\users\\\\91741\\\\appdata\\\\local\\\\programs\\\\python\\\\python39\\\\DLLs',\n",
       " 'c:\\\\users\\\\91741\\\\appdata\\\\local\\\\programs\\\\python\\\\python39\\\\lib',\n",
       " 'c:\\\\users\\\\91741\\\\appdata\\\\local\\\\programs\\\\python\\\\python39',\n",
       " '',\n",
       " 'c:\\\\users\\\\91741\\\\appdata\\\\local\\\\programs\\\\python\\\\python39\\\\lib\\\\site-packages',\n",
       " 'c:\\\\users\\\\91741\\\\appdata\\\\local\\\\programs\\\\python\\\\python39\\\\lib\\\\site-packages\\\\win32',\n",
       " 'c:\\\\users\\\\91741\\\\appdata\\\\local\\\\programs\\\\python\\\\python39\\\\lib\\\\site-packages\\\\win32\\\\lib',\n",
       " 'c:\\\\users\\\\91741\\\\appdata\\\\local\\\\programs\\\\python\\\\python39\\\\lib\\\\site-packages\\\\Pythonwin']"
      ]
     },
     "execution_count": 2,
     "metadata": {},
     "output_type": "execute_result"
    }
   ],
   "source": [
    "import os\n",
    "os.sys.path"
   ]
  },
  {
   "cell_type": "code",
   "execution_count": 4,
   "id": "35bb4cd8",
   "metadata": {},
   "outputs": [],
   "source": [
    "#!pip install pyzbar\n",
    "#!pip install cv2\n",
    "\n",
    "#if the pyzbar library is not install\n",
    "#a pure Python library that reads one-dimensional barcodes and QR codes using the zbar library, an open source software suite for reading bar codes from various sources, such as video streams, image files and raw intensity sensors."
   ]
  },
  {
   "cell_type": "code",
   "execution_count": null,
   "id": "e239e74a",
   "metadata": {},
   "outputs": [],
   "source": []
  }
 ],
 "metadata": {
  "kernelspec": {
   "display_name": "Python 3 (ipykernel)",
   "language": "python",
   "name": "python3"
  },
  "language_info": {
   "codemirror_mode": {
    "name": "ipython",
    "version": 3
   },
   "file_extension": ".py",
   "mimetype": "text/x-python",
   "name": "python",
   "nbconvert_exporter": "python",
   "pygments_lexer": "ipython3",
   "version": "3.9.6"
  }
 },
 "nbformat": 4,
 "nbformat_minor": 5
}
